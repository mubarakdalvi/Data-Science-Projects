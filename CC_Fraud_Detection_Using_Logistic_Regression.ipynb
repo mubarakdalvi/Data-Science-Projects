{
  "cells": [
    {
      "cell_type": "markdown",
      "metadata": {
        "id": "view-in-github",
        "colab_type": "text"
      },
      "source": [
        "<a href=\"https://colab.research.google.com/github/mubarakdalvi/Data-Science-Projects/blob/main/CC_Fraud_Detection_Using_Logistic_Regression.ipynb\" target=\"_parent\"><img src=\"https://colab.research.google.com/assets/colab-badge.svg\" alt=\"Open In Colab\"/></a>"
      ]
    },
    {
      "cell_type": "code",
      "execution_count": null,
      "metadata": {
        "id": "hvIHkf2x-SFB"
      },
      "outputs": [],
      "source": [
        "!pip install faker"
      ]
    },
    {
      "cell_type": "code",
      "execution_count": null,
      "metadata": {
        "id": "RXfFJOgK9EGA"
      },
      "outputs": [],
      "source": [
        "!pip install maxminddb-geolite2"
      ]
    },
    {
      "cell_type": "code",
      "execution_count": null,
      "metadata": {
        "id": "JSlpW9--g1lQ"
      },
      "outputs": [],
      "source": [
        "! pip install random_ip_generator"
      ]
    },
    {
      "cell_type": "code",
      "execution_count": null,
      "metadata": {
        "id": "GXbEZR15teJI"
      },
      "outputs": [],
      "source": [
        "! pip install pip pycountry"
      ]
    },
    {
      "cell_type": "code",
      "execution_count": null,
      "metadata": {
        "id": "NodKJTdN-DAr"
      },
      "outputs": [],
      "source": [
        "import random\n",
        "import pandas as pd\n",
        "import numpy as np\n",
        "from faker import Faker\n",
        "from datetime import datetime,time\n",
        "from geolite2 import geolite2\n",
        "import pycountry\n",
        "from random_ip_generator import random_ip_for_country\n",
        "import ipaddress\n",
        "import re\n",
        "from sklearn.preprocessing import LabelEncoder"
      ]
    },
    {
      "cell_type": "code",
      "execution_count": null,
      "metadata": {
        "id": "e19cuIiw-gsl"
      },
      "outputs": [],
      "source": [
        "fake = Faker('en-IN')"
      ]
    },
    {
      "cell_type": "markdown",
      "metadata": {
        "id": "FC-s34JWGhwx"
      },
      "source": [
        "have to map one credit card to one user there will be not duplicate , we can use set()"
      ]
    },
    {
      "cell_type": "markdown",
      "metadata": {
        "id": "GFbUAS0F-3Kv"
      },
      "source": [
        "Card Number, Expiration Date, CVV/CVC, Cardholder Name, Billing Address, normal ip address, suspisious ip address, amount frequency, high  transaction amount,suspicious sites where user had visisted, whether user have enabled 2fa or not, customer alert, card type"
      ]
    },
    {
      "cell_type": "code",
      "execution_count": null,
      "metadata": {
        "id": "LcghX5DnQXyv"
      },
      "outputs": [],
      "source": [
        "Visa_creditCard = set()\n",
        "MasterCard_creditCard = set()\n",
        "Amex_creditCard = set()\n",
        "Discover_creditCard = set()\n",
        "def generate_card_number():\n",
        "    i = 0\n",
        "    while i < 4000000:\n",
        "        card_type = random.choice(['Visa', 'MasterCard', 'Amex', 'Discover'])\n",
        "        if card_type == 'Visa':\n",
        "            Visa_creditCard.add(random.randint(4000000000000000, 4999999999999999))\n",
        "        elif card_type == 'MasterCard':\n",
        "            MasterCard_creditCard.add(random.randint(5000000000000000, 5999999999999999))\n",
        "        elif card_type == 'Amex':\n",
        "            Amex_creditCard.add(random.choice([random.randint(400000000000000, 499999999999999), random.randint(700000000000000, 799999999999999)]))\n",
        "        elif card_type == 'Discover':\n",
        "            Discover_creditCard.add(random.randint(6000000000000000, 6999999999999999))\n",
        "        i += 1\n",
        "print(generate_card_number())"
      ]
    },
    {
      "cell_type": "code",
      "execution_count": null,
      "metadata": {
        "id": "jQxoKYob9-J_"
      },
      "outputs": [],
      "source": [
        "countries = [country.name for country in pycountry.countries]\n",
        "Country_ip = []\n",
        "country_name = []\n",
        "i = 0\n",
        "while i < 1000:\n",
        "  try:\n",
        "    sus_countries = random.choice(countries)\n",
        "    ip_from_sus_country = random_ip_for_country(pycountry.countries.get(name=sus_countries).alpha_2)\n",
        "    ip_str = str(ip_from_sus_country)\n",
        "    Country_ip.append(ip_str),country_name.append(sus_countries)\n",
        "    i += 1\n",
        "  except ValueError:\n",
        "    print(f'Error Code : {sus_countries}')\n",
        "print(len(Country_ip),Country_ip,len(country_name),country_name)"
      ]
    },
    {
      "cell_type": "code",
      "source": [
        "transaction_day = []\n",
        "def if_leap():\n",
        "  for i in range(1,1001):\n",
        "    month,year = random.randint(1,12), random.randint(2023,2024)\n",
        "    if month == 2:\n",
        "      if year % 4 == 0 and (year % 100 != 0 or year % 400 == 0):\n",
        "        day = random.randint(1,29)\n",
        "      else:\n",
        "        day = random.randint(1,28)\n",
        "    elif month in [4,6,9,11]:\n",
        "      day = random.randint(1,30)\n",
        "    else:\n",
        "      day = random.randint(1,31)\n",
        "    date = datetime(year,month,day)\n",
        "    date_app = date.strftime('%d/%m/%Y')\n",
        "    transaction_day.append(date_app)\n",
        "print(if_leap())"
      ],
      "metadata": {
        "id": "hT9rdVmzJzSS"
      },
      "execution_count": null,
      "outputs": []
    },
    {
      "cell_type": "code",
      "execution_count": null,
      "metadata": {
        "id": "1MXeZ5hM-jJZ"
      },
      "outputs": [],
      "source": [
        "suspected_users = []\n",
        "def is_suspicious():\n",
        "  try:\n",
        "    geo = geolite2.reader()\n",
        "    for  i in range(1000):\n",
        "      ip_india = f'{59}.{181}.{20}.{random.randint(0,255)}'\n",
        "      india_country = [geo.get(ip_india)['country']['names']['en']] if geo.get(ip_india) and 'country' in geo.get(ip_india) else []\n",
        "      sus_countries = random.choice(country_name)\n",
        "      ip_from_sus_country = random.choice(Country_ip)\n",
        "      Billing_Address = fake.address()\n",
        "      provided_address = fake.address()\n",
        "      Two_FA = random.choice(['yes','no'])\n",
        "      sus_transaction_time = random.choice([time(random.randint(2,5),random.randint(0,59),random.randint(0,59)).strftime('%I:%M:%S %p')])\n",
        "      users_frequent_timeofpurchse = time(random.randint(19,23),random.randint(0,59),random.randint(0,59)).strftime('%I:%M:%S: %p')\n",
        "      high_transaction_after_suspicion = random.choice(['yes','no'])\n",
        "      customer_alert = random.choice(['yes','no'])\n",
        "      trandaction_location = fake.address()\n",
        "      current_location = fake.address()\n",
        "      using_vpn = random.choice(['yes','no'])\n",
        "      failed_logins = random.randint(0, 5)\n",
        "      otp = fake.random_number(digits=6,fix_len=True)\n",
        "      transaction = random.choice(transaction_day)\n",
        "      transaction_date = transaction\n",
        "      is_sus = []\n",
        "      if ip_india != ip_from_sus_country and using_vpn == 'yes':\n",
        "        if sus_transaction_time != users_frequent_timeofpurchse:\n",
        "            if high_transaction_after_suspicion == 'yes' and Two_FA == 'no':\n",
        "                if 3 <= failed_logins <= 5:\n",
        "                    is_sus.append('yes')\n",
        "                else:\n",
        "                    is_sus.append('no')\n",
        "            else:\n",
        "              is_sus.append('no')\n",
        "        else:\n",
        "          is_sus.append('no')\n",
        "      else:\n",
        "        is_sus.append('no')\n",
        "      suspected_users.append({\n",
        "          'Billing_Address' : Billing_Address,\n",
        "          'provided_address' : provided_address,\n",
        "          'ip_india' : ip_india,\n",
        "          'india_country' : india_country,\n",
        "          'ip_from_sus_country' : ip_from_sus_country,\n",
        "          'sus_countries' : sus_countries,\n",
        "          'Two_FA' : Two_FA,\n",
        "          'sus_transaction_time' : sus_transaction_time,\n",
        "          'users_frequent_timeofpurchse' : users_frequent_timeofpurchse,\n",
        "          'high_transaction_after_suspicion' : high_transaction_after_suspicion,\n",
        "          'customer_alert' : customer_alert,\n",
        "          'trandaction_location' : trandaction_location,\n",
        "          'current_location' : current_location,\n",
        "          'using_vpn' : using_vpn,\n",
        "          'failed_logins' : failed_logins,\n",
        "          'otp' : otp,\n",
        "          'is_sus' : is_sus,\n",
        "          'transaction_date' : transaction\n",
        "          })\n",
        "  except Exception as e:\n",
        "    print(f'Error Code : {e}')\n",
        "  return suspected_users\n",
        "print(is_suspicious())"
      ]
    },
    {
      "cell_type": "code",
      "execution_count": null,
      "metadata": {
        "id": "mMD37ZjQu0YT"
      },
      "outputs": [],
      "source": [
        "creditcard_info = []\n",
        "def creditcard_data():\n",
        "  i = 0\n",
        "  while i < 1000:\n",
        "    card_type = random.choice(['Visa','MasterCard','Amex','Discover'])\n",
        "    Expiration_Date = fake.credit_card_expire(start='now',end='+10y',date_format='%m/%y')\n",
        "    CVV = fake.random_number(digits=3,fix_len=True)\n",
        "    Cardholder_Name = fake.name()\n",
        "    Cards = None\n",
        "    if card_type == 'Visa':\n",
        "      Cards = random.choice(list(Visa_creditCard))\n",
        "    elif card_type == 'MasterCard':\n",
        "      Cards = random.choice(list(MasterCard_creditCard))\n",
        "    elif card_type == 'Amex':\n",
        "      Cards = random.choice(list(Amex_creditCard))\n",
        "    elif card_type == 'Discover':\n",
        "      Cards = random.choice(list(Discover_creditCard))\n",
        "    creditcard_info.append({\n",
        "        'Cardholder_Name' : Cardholder_Name,\n",
        "        'Cards' : Cards,\n",
        "        'card_type' : card_type,\n",
        "        'CVV' : CVV,\n",
        "        'Expiration_Date' : Expiration_Date,\n",
        "        })\n",
        "    i += 1\n",
        "  return creditcard_info\n",
        "print(creditcard_data())"
      ]
    },
    {
      "cell_type": "code",
      "execution_count": null,
      "metadata": {
        "id": "pFcLyvxn5pJB"
      },
      "outputs": [],
      "source": [
        "sus = pd.DataFrame(creditcard_info)\n",
        "sus.to_csv('customer_data')"
      ]
    },
    {
      "cell_type": "code",
      "execution_count": null,
      "metadata": {
        "id": "0-gGEHOq56XF"
      },
      "outputs": [],
      "source": [
        "bus = pd.DataFrame(suspected_users)\n",
        "bus.to_csv('parameter')"
      ]
    },
    {
      "cell_type": "code",
      "execution_count": null,
      "metadata": {
        "id": "Wg0RVPfCPnq7"
      },
      "outputs": [],
      "source": [
        "pd.set_option('display.max_rows',None)\n",
        "pd.set_option('display.max_columns',None)"
      ]
    },
    {
      "cell_type": "code",
      "execution_count": null,
      "metadata": {
        "id": "E0gPPjvRRFMB"
      },
      "outputs": [],
      "source": [
        "df_customer_data = pd.read_csv('customer_data',index_col=0)\n",
        "df_customer_data.head()"
      ]
    },
    {
      "cell_type": "code",
      "execution_count": null,
      "metadata": {
        "id": "9qxhRKUTbf7s"
      },
      "outputs": [],
      "source": [
        "df_customer_data.info()"
      ]
    },
    {
      "cell_type": "code",
      "execution_count": null,
      "metadata": {
        "id": "4q4ltSZ_OLFa"
      },
      "outputs": [],
      "source": [
        "df_customer_data.corr()"
      ]
    },
    {
      "cell_type": "code",
      "execution_count": null,
      "metadata": {
        "id": "TClA-nt_SkHt"
      },
      "outputs": [],
      "source": [
        "df_parameter = pd.read_csv('parameter',index_col=0)"
      ]
    },
    {
      "cell_type": "code",
      "execution_count": null,
      "metadata": {
        "id": "6WxWHetfS5t6"
      },
      "outputs": [],
      "source": [
        "df_parameter.info()"
      ]
    },
    {
      "cell_type": "code",
      "execution_count": null,
      "metadata": {
        "id": "3LILSy0iTNpJ"
      },
      "outputs": [],
      "source": [
        "india_country = df_parameter['india_country'].str.replace(\"\\\\['\",'').str.replace(\"\\\\']\",'')"
      ]
    },
    {
      "cell_type": "code",
      "execution_count": null,
      "metadata": {
        "id": "m1-lu4wvVB5y"
      },
      "outputs": [],
      "source": [
        "df_parameter['india_country'] = india_country"
      ]
    },
    {
      "cell_type": "code",
      "execution_count": null,
      "metadata": {
        "id": "pkJD5VwXXLFG"
      },
      "outputs": [],
      "source": [
        "df_parameter.head()"
      ]
    },
    {
      "cell_type": "code",
      "execution_count": null,
      "metadata": {
        "id": "_3S-YOfJXTbc"
      },
      "outputs": [],
      "source": [
        "is_sus = df_parameter['is_sus'].str.replace(\"\\\\['\",'').str.replace(\"\\\\']\",'')"
      ]
    },
    {
      "cell_type": "code",
      "execution_count": null,
      "metadata": {
        "id": "UbCOPfAXXsUQ"
      },
      "outputs": [],
      "source": [
        "df_parameter['is_sus'] = is_sus"
      ]
    },
    {
      "cell_type": "code",
      "execution_count": null,
      "metadata": {
        "id": "xlfXePDpF-4O"
      },
      "outputs": [],
      "source": [
        "df_parameter.head()"
      ]
    },
    {
      "cell_type": "code",
      "execution_count": null,
      "metadata": {
        "id": "fC6DY1KtYA1X"
      },
      "outputs": [],
      "source": [
        "df_parameter['is_sus'].value_counts()"
      ]
    },
    {
      "cell_type": "code",
      "source": [
        "df = df_customer_data.join(df_parameter,how='inner')"
      ],
      "metadata": {
        "id": "4-JQCSfpQqIJ"
      },
      "execution_count": null,
      "outputs": []
    },
    {
      "cell_type": "code",
      "source": [
        "df.head()"
      ],
      "metadata": {
        "id": "8aYDgjJKQrFk"
      },
      "execution_count": null,
      "outputs": []
    },
    {
      "cell_type": "code",
      "source": [
        "df.corr()"
      ],
      "metadata": {
        "id": "CmFz_VNRQsui"
      },
      "execution_count": null,
      "outputs": []
    },
    {
      "cell_type": "code",
      "execution_count": null,
      "metadata": {
        "id": "sa09KQF6Tvrz"
      },
      "outputs": [],
      "source": [
        "def extract(col):\n",
        "  if isinstance(col, str):\n",
        "    match = re.search('\\d{6}$',col)\n",
        "    if match is not None:\n",
        "      return match.group()\n",
        "    return col\n",
        "df['Billing_Address'] = df['Billing_Address'].apply(extract)"
      ]
    },
    {
      "cell_type": "code",
      "execution_count": null,
      "metadata": {
        "id": "eQPBIIvHcTWm"
      },
      "outputs": [],
      "source": [
        "def extract(col):\n",
        "  if isinstance(col, str):\n",
        "    match = re.search('\\d{6}$',col)\n",
        "    if match is not None:\n",
        "      return match.group()\n",
        "    return col\n",
        "df['provided_address'] = df['provided_address'].apply(extract)"
      ]
    },
    {
      "cell_type": "code",
      "execution_count": null,
      "metadata": {
        "id": "QKOroGN0cnrb"
      },
      "outputs": [],
      "source": [
        "def extract(col):\n",
        "  if isinstance(col, str):\n",
        "    match = re.search('\\d{6}$',col)\n",
        "    if match is not None:\n",
        "      return match.group()\n",
        "    return col\n",
        "df['trandaction_location'] = df['trandaction_location'].apply(extract)"
      ]
    },
    {
      "cell_type": "code",
      "execution_count": null,
      "metadata": {
        "id": "EEO5t8Z3csj5"
      },
      "outputs": [],
      "source": [
        "def extract(col):\n",
        "  if isinstance(col, str):\n",
        "    match = re.search('\\d{6}$',col)\n",
        "    if match is not None:\n",
        "      return match.group()\n",
        "    return col\n",
        "df['current_location'] = df['current_location'].apply(extract)"
      ]
    },
    {
      "cell_type": "code",
      "execution_count": null,
      "metadata": {
        "id": "PJOZPoi5E9Cn"
      },
      "outputs": [],
      "source": [
        "check = df['Cardholder_Name'].value_counts()"
      ]
    },
    {
      "cell_type": "code",
      "execution_count": null,
      "metadata": {
        "id": "_pXJELHZHrl6"
      },
      "outputs": [],
      "source": [
        "df[df['Cardholder_Name'].isin(check[check >= 2].index)]"
      ]
    },
    {
      "cell_type": "code",
      "source": [
        "'''df['transaction_date'] = df['transaction_date'].str.replace(\"\\['\",'').str.replace(\"\\']\",'')'''"
      ],
      "metadata": {
        "id": "e6JxMGz4lnQu"
      },
      "execution_count": null,
      "outputs": []
    },
    {
      "cell_type": "code",
      "source": [
        "'''df['day'],df['month'],df['year'] = df['transaction_date'].str.split('/',2).str'''"
      ],
      "metadata": {
        "id": "8THevVmQGHEW"
      },
      "execution_count": null,
      "outputs": []
    },
    {
      "cell_type": "code",
      "execution_count": null,
      "metadata": {
        "id": "jEGvrDvuK0iz"
      },
      "outputs": [],
      "source": [
        "df.corr()"
      ]
    },
    {
      "cell_type": "code",
      "execution_count": null,
      "metadata": {
        "id": "AkE-UVEOeVrY"
      },
      "outputs": [],
      "source": [
        "def impute(col):\n",
        "  if isinstance(col,str):\n",
        "    if col == 'India':\n",
        "      return 1\n",
        "    else:\n",
        "      return col\n",
        "df['india_country'] = df['india_country'].apply(impute)"
      ]
    },
    {
      "cell_type": "code",
      "source": [
        "'''df['Expiration_Date'] = df['Expiration_Date'].astype(str)'''"
      ],
      "metadata": {
        "id": "y23i1HpCVIdt"
      },
      "execution_count": null,
      "outputs": []
    },
    {
      "cell_type": "code",
      "source": [
        "'''_,df['Expiration_Date_year'] = df['Expiration_Date'].str.split('/',1).str'''"
      ],
      "metadata": {
        "id": "G3MuhPEjWTp3"
      },
      "execution_count": null,
      "outputs": []
    },
    {
      "cell_type": "code",
      "execution_count": null,
      "metadata": {
        "id": "PJo5Ii6sJvvz"
      },
      "outputs": [],
      "source": [
        "le = LabelEncoder()"
      ]
    },
    {
      "cell_type": "code",
      "source": [
        "transformed_Cards = le.fit_transform(df['Cards'])\n",
        "df['Cards'] = transformed_Cards"
      ],
      "metadata": {
        "id": "dKVBvruPN7EI"
      },
      "execution_count": null,
      "outputs": []
    },
    {
      "cell_type": "code",
      "execution_count": null,
      "metadata": {
        "id": "Pa7lnl_vKE0G"
      },
      "outputs": [],
      "source": [
        "transformed_card_type = le.fit_transform(df['card_type'])\n",
        "df['card_type'] = transformed_card_type"
      ]
    },
    {
      "cell_type": "code",
      "execution_count": null,
      "metadata": {
        "id": "Yyo6fWMOKT4c"
      },
      "outputs": [],
      "source": [
        "transformed_Expiration_Date = le.fit_transform(df['Expiration_Date'])\n",
        "df['Expiration_Date'] = transformed_Expiration_Date"
      ]
    },
    {
      "cell_type": "code",
      "execution_count": null,
      "metadata": {
        "id": "SBHpGqtldHgl"
      },
      "outputs": [],
      "source": [
        "transformed_Billing_Address = le.fit_transform(df['Billing_Address'])\n",
        "df['Billing_Address'] = transformed_Billing_Address"
      ]
    },
    {
      "cell_type": "code",
      "execution_count": null,
      "metadata": {
        "id": "E-pqsUfLdcBL"
      },
      "outputs": [],
      "source": [
        "transformed_provided_address = le.fit_transform(df['provided_address'])\n",
        "df['provided_address'] = transformed_provided_address"
      ]
    },
    {
      "cell_type": "code",
      "execution_count": null,
      "metadata": {
        "id": "1SJRPbAQdkCz"
      },
      "outputs": [],
      "source": [
        "transformed_ip_india = le.fit_transform(df['ip_india'])\n",
        "df['ip_india'] = transformed_ip_india"
      ]
    },
    {
      "cell_type": "code",
      "execution_count": null,
      "metadata": {
        "id": "lhd4G2EoLb6R"
      },
      "outputs": [],
      "source": [
        "transformed_ip_from_sus_country = le.fit_transform(df['ip_from_sus_country'])\n",
        "df['ip_from_sus_country'] = transformed_ip_from_sus_country"
      ]
    },
    {
      "cell_type": "code",
      "execution_count": null,
      "metadata": {
        "id": "nqTiCi3qNIY6"
      },
      "outputs": [],
      "source": [
        "transformed_sus_countries = le.fit_transform(df['sus_countries'])\n",
        "df['sus_countries'] = transformed_sus_countries"
      ]
    },
    {
      "cell_type": "code",
      "execution_count": null,
      "metadata": {
        "id": "vW_QEsCENiPW"
      },
      "outputs": [],
      "source": [
        "transformed_Two_FA = le.fit_transform(df['Two_FA'])\n",
        "df['Two_FA'] = transformed_Two_FA"
      ]
    },
    {
      "cell_type": "code",
      "execution_count": null,
      "metadata": {
        "id": "h-l2auEudyC1"
      },
      "outputs": [],
      "source": [
        "transformed_sus_transaction_time = le.fit_transform(df['sus_transaction_time'])\n",
        "df['sus_transaction_time'] = transformed_sus_transaction_time"
      ]
    },
    {
      "cell_type": "code",
      "execution_count": null,
      "metadata": {
        "id": "oOxj6TpLdWHd"
      },
      "outputs": [],
      "source": [
        "transformed_users_frequent_timeofpurchse = le.fit_transform(df['users_frequent_timeofpurchse'])\n",
        "df['users_frequent_timeofpurchse'] = transformed_users_frequent_timeofpurchse"
      ]
    },
    {
      "cell_type": "code",
      "execution_count": null,
      "metadata": {
        "id": "-3EiF-c3h-kA"
      },
      "outputs": [],
      "source": [
        "transformed_failed_logins = le.fit_transform(df['failed_logins'])\n",
        "df['failed_logins'] = transformed_failed_logins"
      ]
    },
    {
      "cell_type": "code",
      "execution_count": null,
      "metadata": {
        "id": "iuIpT4bziFWw"
      },
      "outputs": [],
      "source": [
        "transformed_high_transaction_after_suspicion = le.fit_transform(df['high_transaction_after_suspicion'])\n",
        "df['high_transaction_after_suspicion'] = transformed_high_transaction_after_suspicion"
      ]
    },
    {
      "cell_type": "code",
      "execution_count": null,
      "metadata": {
        "id": "OOCTe55ziOvX"
      },
      "outputs": [],
      "source": [
        "transformed_customer_alert = le.fit_transform(df['customer_alert'])\n",
        "df['customer_alert'] = transformed_customer_alert"
      ]
    },
    {
      "cell_type": "code",
      "execution_count": null,
      "metadata": {
        "id": "NEe3QHMuiW8E"
      },
      "outputs": [],
      "source": [
        "transformed_trandaction_location = le.fit_transform(df['trandaction_location'])\n",
        "df['trandaction_location'] = transformed_trandaction_location"
      ]
    },
    {
      "cell_type": "code",
      "execution_count": null,
      "metadata": {
        "id": "LL7I0OFsipku"
      },
      "outputs": [],
      "source": [
        "transformed_current_location = le.fit_transform(df['current_location'])\n",
        "df['current_location'] = transformed_current_location"
      ]
    },
    {
      "cell_type": "code",
      "execution_count": null,
      "metadata": {
        "id": "okAe9o8ljH3g"
      },
      "outputs": [],
      "source": [
        "transformed_using_vpn = le.fit_transform(df['using_vpn'])\n",
        "df['using_vpn'] = transformed_using_vpn"
      ]
    },
    {
      "cell_type": "code",
      "execution_count": null,
      "metadata": {
        "id": "jZOUvNRhjHzN"
      },
      "outputs": [],
      "source": [
        "transformed_failed_logins = le.fit_transform(df['failed_logins'])\n",
        "df['failed_logins'] = transformed_failed_logins"
      ]
    },
    {
      "cell_type": "code",
      "execution_count": null,
      "metadata": {
        "id": "LdKYAlKNjfXU"
      },
      "outputs": [],
      "source": [
        "transformed_otp = le.fit_transform(df['otp'])\n",
        "df['otp'] = transformed_otp"
      ]
    },
    {
      "cell_type": "code",
      "source": [
        "transformed_is_sus = le.fit_transform(df['is_sus'])\n",
        "df['is_sus'] = transformed_is_sus"
      ],
      "metadata": {
        "id": "qaV_UxAFOhS_"
      },
      "execution_count": null,
      "outputs": []
    },
    {
      "cell_type": "code",
      "source": [
        "transformed_transaction_date = le.fit_transform(df['transaction_date'])\n",
        "df['transaction_date'] = transformed_transaction_date"
      ],
      "metadata": {
        "id": "z7DaFv23F3Cj"
      },
      "execution_count": null,
      "outputs": []
    },
    {
      "cell_type": "code",
      "source": [
        "df.drop('Cardholder_Name',axis=1,inplace=True)"
      ],
      "metadata": {
        "id": "hEPrRIiQORnc"
      },
      "execution_count": null,
      "outputs": []
    },
    {
      "cell_type": "code",
      "execution_count": null,
      "metadata": {
        "id": "lgMN8XG-jq51"
      },
      "outputs": [],
      "source": [
        "df.head()"
      ]
    },
    {
      "cell_type": "code",
      "source": [
        "df.corr()"
      ],
      "metadata": {
        "id": "yYzIS5U853SI"
      },
      "execution_count": null,
      "outputs": []
    },
    {
      "cell_type": "code",
      "source": [
        "x = df.drop('is_sus',axis=1)"
      ],
      "metadata": {
        "id": "wk377ahMXB0H"
      },
      "execution_count": null,
      "outputs": []
    },
    {
      "cell_type": "code",
      "source": [
        "x"
      ],
      "metadata": {
        "id": "qf1n4LY5YgVc"
      },
      "execution_count": null,
      "outputs": []
    },
    {
      "cell_type": "code",
      "source": [
        "y = df['is_sus']"
      ],
      "metadata": {
        "id": "16vT6eq8XIrl"
      },
      "execution_count": null,
      "outputs": []
    },
    {
      "cell_type": "code",
      "source": [
        "y"
      ],
      "metadata": {
        "id": "EnICTAtEY2fP"
      },
      "execution_count": null,
      "outputs": []
    },
    {
      "cell_type": "code",
      "execution_count": null,
      "metadata": {
        "id": "sxDFv28VaBp6"
      },
      "outputs": [],
      "source": [
        "from sklearn.model_selection import train_test_split,cross_val_score,GridSearchCV"
      ]
    },
    {
      "cell_type": "code",
      "source": [
        "x_train,x_test,y_train,y_test = train_test_split(x,y,train_size=0.8,random_state=31)"
      ],
      "metadata": {
        "id": "iz8uUvEGW7_y"
      },
      "execution_count": null,
      "outputs": []
    },
    {
      "cell_type": "code",
      "source": [
        "x_train"
      ],
      "metadata": {
        "id": "TSmvJMMBXVlw"
      },
      "execution_count": null,
      "outputs": []
    },
    {
      "cell_type": "code",
      "source": [
        "x_test.shape"
      ],
      "metadata": {
        "id": "DyONKkDwXgl4"
      },
      "execution_count": null,
      "outputs": []
    },
    {
      "cell_type": "code",
      "source": [
        "from sklearn.linear_model import LogisticRegression"
      ],
      "metadata": {
        "id": "Z2aHQuQtXk0P"
      },
      "execution_count": null,
      "outputs": []
    },
    {
      "cell_type": "code",
      "source": [
        "lr1 = LogisticRegression()\n",
        "lr2 = LogisticRegression(C = 100, penalty ='l2', solver = 'liblinear')\n",
        "lr3 = LogisticRegression()"
      ],
      "metadata": {
        "id": "1wWUzEerXrdh"
      },
      "execution_count": null,
      "outputs": []
    },
    {
      "cell_type": "code",
      "source": [
        "lr1.fit(x_train,y_train)"
      ],
      "metadata": {
        "id": "DsgrLwBGXt0k"
      },
      "execution_count": null,
      "outputs": []
    },
    {
      "cell_type": "code",
      "source": [
        "y_pred1 = lr1.predict(x_test)"
      ],
      "metadata": {
        "id": "GEZYzIkSY8pT"
      },
      "execution_count": null,
      "outputs": []
    },
    {
      "cell_type": "code",
      "source": [
        "lr2.fit(x_train,y_train)"
      ],
      "metadata": {
        "id": "XdvjNCA8ZsmO"
      },
      "execution_count": null,
      "outputs": []
    },
    {
      "cell_type": "code",
      "source": [
        "y_pred2 = lr2.predict(x_test)"
      ],
      "metadata": {
        "id": "3Pi0s76_Z4en"
      },
      "execution_count": null,
      "outputs": []
    },
    {
      "cell_type": "code",
      "source": [
        "lr3.fit(x_train,y_train)"
      ],
      "metadata": {
        "id": "6tfVpjPxaAlx"
      },
      "execution_count": null,
      "outputs": []
    },
    {
      "cell_type": "code",
      "source": [
        "y_pred3 = lr3.predict(x_test)"
      ],
      "metadata": {
        "id": "TyF7zdbWaF0T"
      },
      "execution_count": null,
      "outputs": []
    },
    {
      "cell_type": "code",
      "source": [
        "from sklearn.metrics import accuracy_score,confusion_matrix"
      ],
      "metadata": {
        "id": "L78yX0rpZRnJ"
      },
      "execution_count": null,
      "outputs": []
    },
    {
      "cell_type": "code",
      "source": [
        "print(f'y_pred1 = {accuracy_score(y_test,y_pred1)}')"
      ],
      "metadata": {
        "id": "QE8L6S2aeyh9"
      },
      "execution_count": null,
      "outputs": []
    },
    {
      "cell_type": "code",
      "source": [
        "confusion_matrix(y_test,y_pred1)"
      ],
      "metadata": {
        "id": "1vWVrQl-oRKg"
      },
      "execution_count": null,
      "outputs": []
    },
    {
      "cell_type": "code",
      "source": [
        "print(f'y_pred2 = {accuracy_score(y_test,y_pred2) * 100}%')"
      ],
      "metadata": {
        "id": "ku-Ifw7Vh6jh"
      },
      "execution_count": null,
      "outputs": []
    },
    {
      "cell_type": "code",
      "source": [
        "confusion_matrix(y_test,y_pred2)"
      ],
      "metadata": {
        "id": "6NFzfj0Hogbp"
      },
      "execution_count": null,
      "outputs": []
    },
    {
      "cell_type": "code",
      "source": [
        "print(f'y_pred3 = {accuracy_score(y_test,y_pred3)}')"
      ],
      "metadata": {
        "id": "F94K6H1jh74t"
      },
      "execution_count": null,
      "outputs": []
    },
    {
      "cell_type": "code",
      "source": [
        "confusion_matrix(y_test,y_pred3)"
      ],
      "metadata": {
        "id": "aNRcGBvoolNR"
      },
      "execution_count": null,
      "outputs": []
    },
    {
      "cell_type": "code",
      "source": [
        "param_grid = {'penalty': ['l1', 'l2'], 'solver': ['liblinear'], 'C': [0.001, 0.01, 0.1, 1, 10, 100]}"
      ],
      "metadata": {
        "id": "S7dL9bsXibAi"
      },
      "execution_count": null,
      "outputs": []
    },
    {
      "cell_type": "code",
      "source": [
        "grid_search = GridSearchCV(lr1,param_grid,cv=5)"
      ],
      "metadata": {
        "id": "1Cy701tKiofy"
      },
      "execution_count": null,
      "outputs": []
    },
    {
      "cell_type": "code",
      "source": [
        "grid_search.fit(x_train,y_train)"
      ],
      "metadata": {
        "id": "hwfOIaJcjAAf"
      },
      "execution_count": null,
      "outputs": []
    },
    {
      "cell_type": "code",
      "source": [
        "print(grid_search.best_params_)"
      ],
      "metadata": {
        "id": "I1E9cS5rjJI_"
      },
      "execution_count": null,
      "outputs": []
    },
    {
      "cell_type": "code",
      "source": [
        "cross_val_score(lr1,x,y,cv=5,scoring='accuracy').mean() * 100"
      ],
      "metadata": {
        "id": "zmqDDgP4o0um"
      },
      "execution_count": null,
      "outputs": []
    }
  ],
  "metadata": {
    "colab": {
      "provenance": [],
      "authorship_tag": "ABX9TyMorXGiG0B9fyXcEF5Mm831",
      "include_colab_link": true
    },
    "kernelspec": {
      "display_name": "Python 3",
      "name": "python3"
    },
    "language_info": {
      "name": "python"
    }
  },
  "nbformat": 4,
  "nbformat_minor": 0
}